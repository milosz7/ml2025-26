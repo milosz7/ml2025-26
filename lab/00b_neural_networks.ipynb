{
  "cells": [
    {
      "cell_type": "code",
      "execution_count": 2,
      "metadata": {
        "id": "pzFa8KcGENN0"
      },
      "outputs": [],
      "source": [
        "from typing import List, Tuple\n",
        "\n",
        "import numpy as np\n",
        "import torch\n",
        "import torchvision\n",
        "from torch import nn\n",
        "from torch.nn.functional import cross_entropy\n",
        "from torch.optim import SGD\n",
        "from torchvision.datasets import MNIST"
      ]
    },
    {
      "cell_type": "markdown",
      "metadata": {
        "id": "uvtW7RHRENN0"
      },
      "source": [
        "# Sieci neuronowe\n",
        "\n",
        "## MNIST\n",
        "Popularnym \"prostym\" datasetem, na którym można przetestować nasz model zanim zajmiemy się trudniejszymi problemami, jest MNIST, zbiór danych zawierających ręcznie rysowane cyfry. Poniżej kilka przykładowych cyfr:\n",
        "\n",
        "<img width=\"400\" src=\"https://miro.medium.com/proxy/0*At0wJRULTXvyA3EK.png\" />\n",
        "\n",
        "\n",
        "Zadanie naszego modelu polega na tym, by na podstawie obrazka narysowanej ręcznie cyfry określić, jaka to jest cyfra.\n",
        "\n",
        "Czyli nasz model, widząc taki obrazek:\n",
        "<img width=\"200\" src=\"https://machinelearningmastery.com/wp-content/uploads/2019/02/sample_image-768x763.png\" />\n",
        "\n",
        "powinien odpowiedzieć, że to cyfra \"7\".\n",
        "\n",
        "\n",
        "**Pytanie: Czy w takim sformułowaniu MNIST służy do regresji czy do klasyfikacji?**"
      ]
    },
    {
      "cell_type": "markdown",
      "metadata": {
        "id": "Gx16igEcENN0"
      },
      "source": [
        "## Praca na obrazkach\n",
        "Nasze modele jak dotąd przyjmowały wyłącznie wektory - w jaki sposób możemy w takich modelach przetwarzać obrazki?\n",
        "\n",
        "Obrazek to tak naprawdę trójwymiarowa tablica pikseli o wymiarach: `[H, W, C]`, gdzie `H` to wysokość, `W` to szerokość, a `C` to liczba kanałów (klasycznie: red, green, blue).\n",
        "\n",
        "Najprostsze co możemy zrobić, to spłaszczyć naszą tablicę do jednego wymiaru, wektora o kształcie `[H * W * C]`. W przypadku MNIST-a nasze obrazki mają wymiar `28x28` pikseli i jest tylko jeden kanał (odcienie szarości), więc każdy z naszych wektorów będzie miał kształt `[28 * 28] = [784]`.\n",
        "\n",
        "W przyszłości poznamy też sprytniejsze sposoby działania na obrazkach, np. za pomocą sieci konwolucyjnych.\n",
        "\n",
        "## Stochastic gradient descent\n",
        "\n",
        "Dotychczas kiedy chcieliśmy minimalizować funkcję kosztu $L(X; \\theta)$ dla całego naszego zbioru $X \\in \\mathbb{R}^{NxD}$, liczyliśmy średni koszt dla wszystkich elementów $x \\in X$, tzn.\n",
        "\n",
        "$$L(X; \\theta) = \\frac{1}{N} \\sum_i L(x_i; \\theta) $$\n",
        "\n",
        "Następnie liczyliśmy gradient tego kosztu, żeby zminimalizować funkcję.\n",
        "\n",
        "W praktyce może się okazać, że nasz dataset jest gigantyczny, np. kiedy mamy miliony przykładów. Niepraktyczne wtedy jest liczenie całego tego kosztu a tym bardziej gradientu. W praktyce w każdym kroku liczymy funkcję kosztu (i jej gradient) z innego podzbioru elementów w naszym zbiorze, czyli z tzw. **batcha**:\n",
        "\n",
        "$$L_{\\mathrm{batch}} (X;\\theta) = \\frac{1}{|B|} \\sum_{x \\in B} L(x; \\theta) $$\n",
        "\n",
        "Gradient po koszcie policzonym z batcha będzie inny niż gradient liczony po koszcie policzonym z całego zbioru, ale powinny być w miarę podobne, tzn:\n",
        "\n",
        "$$ \\nabla_\\theta L_{\\mathrm{batch}} (X; \\theta) \\approx \\nabla_\\theta L(X; \\theta) $$\n",
        "\n",
        "Metodę spadku gradientu zaimplementowaną w ten sposób (batchowo) nazywamy metodą **stochastycznego spadku gradientu** (*Stochastic Gradient Descent, SGD*).\n",
        "\n",
        "\n",
        "## Torchvision\n",
        "PyTorch, a także pakiet `torchvision` udostępnia parę przydatnych narzędzi, z których skorzystamy na dzisiejszych zajęciach. Dla przykładu znacznie uproszczone jest pobieranie i ładowanie danych. W pakiecie [`torchvision.datasets`](https://pytorch.org/docs/stable/torchvision/datasets.html) znajdziemy popularne datasety, m.in. właśnie MNIST-a.\n",
        "\n",
        "Oprócz tego z samego `torcha` możemy skorzystać z [`DataLoadera`](https://pytorch.org/docs/stable/data.html#torch.utils.data.DataLoader), który implementuje wiele przydatnych operacji do ładowania danych, np. dzielenie datasetu w batche i shufflowanie."
      ]
    },
    {
      "cell_type": "markdown",
      "metadata": {
        "id": "SUHlYPfxENN1"
      },
      "source": [
        "## Zadanie 1 (2 pkt.)\n",
        "Klasa `MNIST` zwraca nam dane w postaci obiektów [PIL](https://pillow.readthedocs.io/en/stable/). Należy je odpowiednio przetworzyć, zanim będziemy mogli na nich pracować.\n",
        "\n",
        "Za pomocą [`transformacji`](https://pytorch.org/vision/stable/transforms.html) podawanych do klasy MNIST należy:\n",
        "1. Zamienić obiekty `PIL` na Tensory.\n",
        "2. Policzyć średnią i odchylenie standardowe pikseli dla **całego zbioru trenującego** i użyć ich później do znormalizowania danych trenujących i testowych. Do liczenia średniej i odchylenia standardowego wykorzystać funkcję  `calculate_mean_and_std` (proszę zwrócić uwagę na to w jakim przedziale znajdują się dane przed normalizacją – chcemy aby były w przedziale 0-1). **HINT**: Tutaj torchvision powinien nam to ułatwić.\n",
        "3. Zmienić \"kształt\" każdego przykładu z `28x28` na `784`.\n",
        "    **HINT**: [`Lambda`](https://pytorch.org/vision/stable/generated/torchvision.transforms.Lambda.html)\n",
        "\n",
        "Uwaga: proszę zwrócić uwagę co dokładnie robią używane_transformacje!"
      ]
    },
    {
      "cell_type": "code",
      "execution_count": 3,
      "metadata": {
        "colab": {
          "base_uri": "https://localhost:8080/"
        },
        "id": "nrWz4T2BENN1",
        "outputId": "2ccd77bf-69d1-4447-b2b1-295f620c3b8e"
      },
      "outputs": [
        {
          "output_type": "stream",
          "name": "stderr",
          "text": [
            "100%|██████████| 9.91M/9.91M [00:00<00:00, 18.7MB/s]\n",
            "100%|██████████| 28.9k/28.9k [00:00<00:00, 500kB/s]\n",
            "100%|██████████| 1.65M/1.65M [00:00<00:00, 4.58MB/s]\n",
            "100%|██████████| 4.54k/4.54k [00:00<00:00, 7.02MB/s]\n"
          ]
        }
      ],
      "source": [
        "from torchvision.transforms import v2\n",
        "\n",
        "\n",
        "\n",
        "def calculate_mean_and_std() -> Tuple[float, float]:\n",
        "    data = MNIST(root=\".\", download=True, train=True).data\n",
        "    data = data.float() / 255.0\n",
        "    return data.mean().item(), data.std().item()\n",
        "\n",
        "mean, std = calculate_mean_and_std()\n",
        "\n",
        "transforms = v2.Compose([\n",
        "    v2.ToImage(),\n",
        "    v2.ToDtype(torch.float32, scale=True),\n",
        "    v2.Normalize(mean=[mean], std=[std]),\n",
        "    v2.Lambda(lambda x: x.view(-1)),\n",
        "])\n",
        "\n",
        "train_data = MNIST(\n",
        "    root=\".\",\n",
        "    download=True,\n",
        "    train=True,\n",
        "    transform=transforms,\n",
        ")\n",
        "\n",
        "test_data = MNIST(\n",
        "    root=\".\",\n",
        "    download=True,\n",
        "    train=False,\n",
        "    transform=transforms\n",
        ")"
      ]
    },
    {
      "cell_type": "code",
      "execution_count": 4,
      "metadata": {
        "id": "RB1KCKFaENN1"
      },
      "outputs": [],
      "source": [
        "mean, std = calculate_mean_and_std()\n",
        "assert np.isclose(mean, 0.1306, atol=1e-4)\n",
        "assert np.isclose(std, 0.3081, atol=1e-4)"
      ]
    },
    {
      "cell_type": "code",
      "execution_count": 5,
      "metadata": {
        "id": "aNQpA2W7ENN1"
      },
      "outputs": [],
      "source": [
        "train_loader = torch.utils.data.DataLoader(train_data, batch_size=10)\n",
        "\n",
        "x, y = next(iter(train_loader))\n",
        "assert len(x.shape) == 2\n",
        "assert x.shape == (10, 784)"
      ]
    },
    {
      "cell_type": "markdown",
      "metadata": {
        "id": "YLODAEXqENN1"
      },
      "source": [
        "# Sieci neuronowe\n",
        "\n",
        "### Modele liniowe\n",
        "\n",
        "Jak dotąd omawialiśmy wyłącznie modele liniowe, tzn. takie, które dla zadanego $x$ potrafiły modelować funkcję rodzaju $$f(x) = g(w^T x + b) $$\n",
        "gdzie $x \\in \\mathbb{R}^D, w \\in \\mathbb{R}^D$, $b \\in \\mathbb{R}$ a $g$ to funkcja aktywacji, np. sigmoid.\n",
        "\n",
        "Możemy też stworzyć podobny model, który na wyjściu nie będzie podawał jednej liczby, ale cały wektor o wymiarze $K$, tzn:\n",
        "$$f(x) = g(W^T x + \\mathbf{b}), $$\n",
        "gdzie $W$ jest teraz macierzą a $\\mathbf{b}$ wektorem, tzn. $W \\in \\mathbb{R}^{DxK}, \\mathbf{b} \\in \\mathbb{R}^{K}$.\n",
        "\n",
        "### Zanurzenia\n",
        "\n",
        "Jeżeli chcieliśmy, żeby takie modele mogły zajmować się problemami nieliniowymi, musieliśmy znaleźć odpowiednią reprezentację danych (zanurzenia wielomianowe, kernele dla SVM-ów), które sprawi, że w nowej przestrzeni problem będzie liniowy. W tym celu trzeba \"zgadnąć\", jakie przekształcenie jest właściwe - co w przypadku bardziej skomplikowanych problemów jest niezwykle trudne.\n",
        "\n",
        "Ważne pytanie: **czy jesteśmy w stanie zbudować model, który znajdzie nam odpowiednią reprezentację dla danych?**\n",
        "\n",
        "### Nakładanie warstw liniowych\n",
        "\n",
        "**Rozwiązanie:** Nałóżmy na siebie kilka warstw modeli liniowych, np:\n",
        "$$\n",
        "f(x) = g_2(W_2^T (g_1(W_1^T x + \\mathbf{b_1})) + \\mathbf{b_2}),\n",
        "$$\n",
        "czyli, rozpisując czytelniej:\n",
        "$$\n",
        "f(x) = f^{(2)}(f^{(1)}(x)) \\\\\n",
        "f^{(1)}(x) = g_1(W_1^T x + \\mathbf{b_1}) \\\\\n",
        "f^{(2)}(x) = g_2(W_2^T x + \\mathbf{b_2})\n",
        "$$\n",
        "\n",
        "Powstały model nazywamy **sztuczną siecią neuronową** (*artificial neural network*).\n",
        "\n",
        "Każdą funkcję $f^{(i)}$ nazywamy **warstwą** (*layer*). W naszej sieci możemy umieścić dowolnie wiele warstw, ale na razie będziemy zajmować się modelami nieszczególnie głębokimi (mniej niż 10 warstw).\n",
        "\n",
        "Warstwy $f^{(i)}$ mogą implementować dowolną funkcję, ale jeśli mają postać $g(W^Tx +\\mathbf{b})$, to nazywamy je warstwami liniowymi lub warstwami *fully connected*. Na tych zajęciach będziemy zajmować się wyłącznie sieciami o takiej postaci.\n",
        "\n",
        "\n",
        "### Uczenie się reprezentacji\n",
        "\n",
        "Jeśli nasz model jest postaci\n",
        "$$\n",
        "f(x) = f^{(n)}(f^{(n-1)}(\\ldots f^{1}(x) \\ldots )),\n",
        "$$\n",
        "to możemy przyjąć, że warstwa $f^{(n)}$ rozwiązuje problem liniowy na reprezentacji zadanej przez warstwy $f^{(1)}, f^{(2)}, \\ldots, f^{(n-1)}$.\n",
        "\n",
        "\n",
        "\n",
        "<img src=\"https://upload.wikimedia.org/wikipedia/commons/thumb/4/46/Colored_neural_network.svg/1200px-Colored_neural_network.svg.png\" width=300 />  \n",
        "\n",
        "Źródło: [Wikipedia](https://en.wikipedia.org/wiki/Artificial_neural_network).\n",
        "\n",
        "### Neurony\n",
        "\n",
        "**Neuron** w tym kontekście to fragment warstwy, który łączy się ze wszystkimi neuronami w poprzedniej warstwie i na ich podstawie produkuje jedno z wyjść warstwy.\n",
        "\n",
        "Jeśli nasza warstwa ma postać $g(W^T x + \\mathbf{b})$, to $i$-ty neuron implementuje funkcję:\n",
        "$$ f(x) = g(w_i^T x + b_i), $$\n",
        "gdzie wektor $w_i$ jest $i$-tą kolumną macierzy $W$ a $b_i$ jest $i$-tym elementem wektora $\\mathbf{b}$."
      ]
    },
    {
      "cell_type": "markdown",
      "metadata": {
        "id": "X06sG4PjENN1"
      },
      "source": [
        "## Zadanie 2 (3 pkt.)\n",
        "Za pomocą przygotowanego przez TensorFlow [narzędzia do zabawy z sieciami neuronowymi](http://playground.tensorflow.org) proszę przeprowadzić poniższe eksperymenty i opisać rezultaty.\n",
        "\n",
        "Kilka uwag:\n",
        "* Każda odpowiedź powinna być zawarta w jednym/dwóch zdaniach.\n",
        "* Punktowane będą nie tylko prawidłowe odpowiedzi, ale też sensowne hipotezy/przypuszczenia.\n",
        "* Jeżeli proszeni są Państwo o podanie architektury sieci, to najlepiej zapisać ją w skrótowe postaci `n_1-n_2-...-n_k`, gdzie `n_i` to liczba neuronów w `i`-tej warstwie. Czyli jeśli sieć ma pięć neuronów w pierwszej warstwie, trzy neurony w drugiej warstwie oraz sześć neuronów w trzeciej warstwie, to można ją opisać jako `5-3-6`.\n",
        "* Proszę nie zmieniać opcji noise/ratio of training to test data. Proszę nie zmieniać feature'ów wejściowych, o ile nie będzie to wyraźnie podane w zadaniu.\n",
        "* Można użyć opcji \"show test data\", żeby sprawdzić, dlaczego koszt na datasecie treningowym i testowym się różni."
      ]
    },
    {
      "cell_type": "markdown",
      "metadata": {
        "id": "uTK8NXJwENN1"
      },
      "source": [
        "1) **Eksperymenty na zbiorze Gaussian**\n",
        "* Czy ten dataset można rozwiązać metodami płytkimi, których uczyliśmy się na wcześniejszych zajęciach?\n",
        "* Co sprawia, że ten zbiór danych jest łatwiejszy niż pozostałe?\n",
        "* Porównaj na tym zbiorze dwa modele: sieć neuronową z kilkoma warstwami i kilkudziesięcioma neuronami oraz sieć z jednym neuronem. Który z tych modeli bardziej nadaje się do zadania?"
      ]
    },
    {
      "cell_type": "code",
      "execution_count": 6,
      "metadata": {
        "id": "DgIR8OZ1ENN1"
      },
      "outputs": [],
      "source": [
        "# W zbiorze danych Gaussian można wyszczególnić na płaszczyźnie dwie nienachodzące\n",
        "# się na siebie grupy punktów. Moją hipotezą jest, że jest liniowo separowalny (sprawia to, że\n",
        "# rozwiązanie problemu jest łatwe).\n",
        "# Można rozwiązać ten problem metodami płytkimi (sieć z jednym neuronem działa jak regresja liniowa).\n",
        "# Więc przypuszczam, że będzie wystarczająca.\n",
        "\n",
        "# Sieć neuronowa o strukturze: 8-8-8-8-8-1 - poprawnie odseparowała dane o różnych klasach (loss < 0.001)\n",
        "# po ok. 200 iteracjach.\n",
        "\n",
        "# Sieć z jednym neuronem: - poprawnie odseparowała dane o różnych klasach (loss < 0.001)\n",
        "# również po ok 200 iteracjach.\n",
        "\n",
        "# Uważam, że sieć z jednym neuronem lepiej nadaje się do tego zadania gdyż jest\n",
        "# mniej kosztowna obliczeniowo."
      ]
    },
    {
      "cell_type": "markdown",
      "metadata": {
        "id": "CPGGmoqnENN1"
      },
      "source": [
        "2) **Eksperymenty na zbiorze Circle**\n",
        "* Załóżmy, że mamy sieć z jednym neuronem. Ile najmniej potrzeba feature'ów wejściowych, żeby model osiągał na datasecie testowym koszt $\\leq 0.001$? Jakie to feature'y?\n",
        "* Załóżmy, że na wejściu mamy tylko niezanurzone feature'y (tzn. $x_1$ oraz $x_2$). Stwórz najmniejszą sieć neuronową (pod względem liczby neuronów), która osiąga na datasecie testowym koszt $\\leq 0.001$. Opisz architekturę tej sieci.\n",
        "* Spróbuj rozwiązać ten problem za pomocą dowolnie dużej sieci neuronowej **z aktywacjami liniowymi** (nie zmieniając feature'ów wejściowych). Czy udało się osiągnąć wynik $\\leq 0.001$? Jeśli tak, podaj architekturę sieci. Jeśli nie, podaj hipotezę, dlaczego się nie udało."
      ]
    },
    {
      "cell_type": "code",
      "execution_count": 7,
      "metadata": {
        "id": "Knn-3kA7ENN1"
      },
      "outputs": [],
      "source": [
        "# Klasy w datasecie Circle można odseparować za pomocą równania okręgu (x^2 + y^2 <= N)\n",
        "# Tak więc w przypadku sieci z jednym neuronem potrzebujemy dwóch feature'ów (x i y podniesione do kwadratu).\n",
        "# Po ok. 500 iteracjach uzyskałem loss < 0.001\n",
        "\n",
        "# Moja hipoteza jest taka, że 2 warstwy + nieliniowa aktywacja powinny wystarczyć\n",
        "# W pierwszej próbie, dla architektury 8-8 i funkcji aktywacji tanh udało się osiągnąć założony koszt.\n",
        "# Myślę, że dla tego problemu można zmniejszyć liczbę neuronów.\n",
        "\n",
        "# Hipoteza: Jeżeli odpowiednio liniowo podzielę przestrzeń za pomocą neuronów w pierwszej warstwie\n",
        "# to jeden neuron w warstwie wystarczy do reprezentacji nieliniowej granicy decyzyjnej.\n",
        "# Dla sieci 4-1, aktywacja tanh Udało się osiągnąć loss <= 0.001 tak więc moja hipoteza była słuszna.\n",
        "# Im więcej neuronów w 1 warstwie tym jesteśmy w stanie osiągnąć dokładniejszą aproksymację okręgu.\n",
        "\n",
        "# Hipoteza - nie da się podzielić tej przestrzeni wyłącznie za pomocą złożenia funkcji liniowych\n",
        "# Nie udało mi się osiągnąć separacji, przetestowałem dla dużej (jak na problem) architektury 8-8-8-8-8\n",
        "# Sieć po chwili przestaje się uczyć. Jest to spowodowane tym, że jeżeli złożymy dowolną ilość\n",
        "# funkcji liniowych to w wyniku powstanie funkcja liniowa. Granica decyzyjna jest równaniem okręgu\n",
        "# które jest niemożliwe do opisania za pomocą funkcji liniowych.\n"
      ]
    },
    {
      "cell_type": "markdown",
      "metadata": {
        "id": "TTwAPYYVENN1"
      },
      "source": [
        "3) **Eksperymenty na zbiorze Spiral**\n",
        "* Osiągnij (stabilny) koszt $\\leq 0.1$ na zbiorze testowym, podaj wykorzystaną architekturę, rodzaj aktywacji, regularyzację  oraz learning rate.\n",
        "* Co odróżnia rozwiązania które dobrze generalizują od rozwiązań, które overfitują pod względem wizualnym? Popatrz na płaszczyznę z danymi po wytrenowaniu modelu."
      ]
    },
    {
      "cell_type": "code",
      "execution_count": 8,
      "metadata": {
        "id": "91YAIHmfENN1"
      },
      "outputs": [],
      "source": [
        "# Tutaj należy opisać wyniki eksperymentów na zbiorze Spiral.\n",
        "# Hipoteza - Zbiór danych Spiral posiada dużo bardziej złożoną granicę decyzyjną\n",
        "# niż poprzednie zbiory więc potrzebne będzie więcej niż 16 neuronów aby wytrenować model który dobrze generalizuje.\n",
        "\n",
        "# Sieć 8-8, lr 0.01, brak regularyzacji - Umożliwiła nauczenie się przez model danych treningowych, lecz pojawił\n",
        "# się overfitting (granica decyzyjna nie ma kształtu spirali, jest dopasowana do danych treningowych i nie generalizuje dobrze).\n",
        "\n",
        "# Dodanie do powyższej sieci regularyzacji L2 (tak aby zmniejszyć overfitting) w przypadku powyższej sieci nie umożliwiło\n",
        "# wytrenowania modelu, który dobrze generalizuje (0.001 / 0.003 dalej overfitting) 0.01 - za wolny trening.\n",
        "\n",
        "# Zwiększenie rozmiaru sieci + dodanie regularyzacji pozwoli mi wytrenować model który dobrze generalizuje\n",
        "# Sieć 8-8-8-8, lr 0.01 -> 0.003, regularyzacja L2 0.001. Model znalazł granicę decyzyjną w kształcie spirali bez żadnych\n",
        "# zniekształceń pomiędzy pustymi przestrzeniami między punktami na krzywej, które znajdują się w datasecie testowym. Loss testowy <= 0.01\n",
        "# Ten brak zniekształceń jest właśnie wizualną cechą, która odróżnia model overfitujące od generalizujących."
      ]
    },
    {
      "cell_type": "markdown",
      "metadata": {
        "id": "6xuHh3yIENN1"
      },
      "source": [
        "## Zadanie 3 (2 pkt.)\n",
        "\n",
        "Ręcznie zaimplementować prostą sieć z jedną warstwą ukrytą. Sieć:\n",
        "1. Na wejściu będzie przyjmować dane o wymiarze `input_dim`\n",
        "2. Pierwsza warstwa ma je przetwarzać na wymiar `hidden_dim`.\n",
        "3. Druga warstwa ma przetwarzać wyjście pierwszej warstwy na wymiar `output_dim`.\n",
        "\n",
        "W tym celu trzeba stworzyć odpowiednie tensory reprezentujące wagi i biasy w poszczególnych warstwach\n",
        "1. Macierze wag należy zainicjalizować za pomocą wartości wylosowanych ze standardowego rozkładu normalnego.\n",
        "2. Dla obu warstw należy stworzyć _biasy_ zainicjalizowane na 0.\n",
        "3. Funkcją aktywacji dla pierwszej warstwy ma być `torch.tanh`. W drugiej warstwie ma być aktywacja liniowa (czyli brak aktywacji).\n",
        "\n",
        "Następnie należy zaimplementować pętlę uczenia z użyciem PyTorchowej funkcji kosztu `nn.CrossEntropyLoss` i optymalizatora SGD. Jeśli wszystko zostało zaimplementowane poprawne, to sieć powinna zazwyczaj osiagać accuracy większe niż `0.82` na zbiorze testowym (chociaż czasami może nie osiągać tej wartości z powodu pechowej inicjalizacji).\n",
        "\n",
        "**HINT** Proszę nie zapomnieć o `requires_grad=True` przy definiowaniu parametrów sieci."
      ]
    },
    {
      "cell_type": "code",
      "execution_count": 9,
      "metadata": {
        "id": "qjelp1bXENN1"
      },
      "outputs": [],
      "source": [
        "class CustomNetwork(object):\n",
        "    \"\"\"\n",
        "    Simple 1-hidden layer linear neural network\n",
        "    \"\"\"\n",
        "\n",
        "    def __init__(self, input_dim: int, hidden_dim: int, output_dim: int):\n",
        "        \"\"\"\n",
        "        Initialize network's weights\n",
        "        \"\"\"\n",
        "\n",
        "        device = \"cuda\" if torch.cuda.is_available() else \"cpu\"\n",
        "        self.weight_1: torch.Tensor = torch.randn((input_dim, hidden_dim), requires_grad=True, device=device)\n",
        "        self.bias_1: torch.Tensor = torch.zeros(hidden_dim, requires_grad=True, device=device)\n",
        "        self.activation_1 = nn.Tanh()\n",
        "\n",
        "        self.weight_2: torch.Tensor = torch.randn((hidden_dim, output_dim), requires_grad=True, device=device)\n",
        "        self.bias_2: torch.Tensor = torch.zeros(output_dim, requires_grad=True, device=device)\n",
        "\n",
        "    def __call__(self, x: torch.Tensor) -> torch.Tensor:\n",
        "        \"\"\"\n",
        "        Forward pass through the network\n",
        "        \"\"\"\n",
        "        x = x @ self.weight_1 + self.bias_1\n",
        "        x = self.activation_1(x)\n",
        "        x = x @ self.weight_2 + self.bias_2\n",
        "        return x\n",
        "\n",
        "    def parameters(self) -> List[torch.Tensor]:\n",
        "        \"\"\"\n",
        "        Returns all trainable parameters\n",
        "        \"\"\"\n",
        "        return [self.weight_1, self.bias_1, self.weight_2, self.bias_2]"
      ]
    },
    {
      "cell_type": "code",
      "execution_count": 10,
      "outputs": [],
      "source": [
        "def pytorch_backward(loss: torch.Tensor, model: CustomNetwork):\n",
        "    loss.backward()"
      ],
      "metadata": {
        "id": "uKaRYrwlENN1"
      }
    },
    {
      "cell_type": "code",
      "execution_count": 11,
      "outputs": [],
      "source": [
        "def train(model: CustomNetwork, epoch: int, batch_size: int, lr: float, momentum: float, backward_fn=pytorch_backward):\n",
        "\n",
        "    # prepare data loaders, based on the already loaded datasets\n",
        "    train_loader = torch.utils.data.DataLoader(train_data, batch_size=batch_size, shuffle=True)\n",
        "    test_loader = torch.utils.data.DataLoader(test_data, batch_size=batch_size)\n",
        "\n",
        "    # initialize the optimizer using the hyperparams\n",
        "    parameters = model.parameters()\n",
        "    optimizer: torch.optim.Optimizer = SGD(parameters, lr=lr, momentum=momentum)\n",
        "\n",
        "    criterion = nn.CrossEntropyLoss()\n",
        "    device = \"cuda\" if torch.cuda.is_available() else \"cpu\"\n",
        "\n",
        "    # training loop\n",
        "    for e in range(epoch):\n",
        "        for i, (x, y) in enumerate(train_loader):\n",
        "            x = x.to(device)\n",
        "            y = y.to(device)\n",
        "            # reset the gradients from previouis iteration\n",
        "            optimizer.zero_grad()\n",
        "            # pass through the network\n",
        "            output = model(x)\n",
        "            # calculate loss\n",
        "            loss = criterion(output, y)  # type: torch.Tensor\n",
        "            # backward pass thorught the network\n",
        "            backward_fn(loss, model)\n",
        "            # apply the gradients\n",
        "            optimizer.step()\n",
        "\n",
        "            # log the loss value\n",
        "            if (i + 1) % 100 == 0:\n",
        "                print(\n",
        "                    f\"Epoch {e} iter {i + 1}/{len(train_data) // batch_size} loss: {loss.item()}\",\n",
        "                )\n",
        "\n",
        "        # at the end of an epoch run evaluation on the test set\n",
        "        with torch.no_grad():\n",
        "            # initialize the number of correct predictions\n",
        "            correct: int = 0\n",
        "            for i, (x, y) in enumerate(test_loader):\n",
        "                x = x.to(device)\n",
        "                y = y.to(device)\n",
        "                # pass through the network\n",
        "                output = model(x)  # type: torch.Tensor\n",
        "                # update the number of correctly predicted examples\n",
        "                y_pred = output.argmax(dim=1)\n",
        "                correct += (y == y_pred).sum()  # type: ignore\n",
        "\n",
        "            print(f\"\\nTest accuracy: {correct / len(test_data)}\")\n",
        "    return correct"
      ],
      "metadata": {
        "id": "Uu_bVabkENN1"
      }
    },
    {
      "cell_type": "code",
      "execution_count": 12,
      "outputs": [
        {
          "output_type": "stream",
          "name": "stdout",
          "text": [
            "Epoch 0 iter 100/937 loss: 3.2210114002227783\n",
            "Epoch 0 iter 200/937 loss: 1.8707308769226074\n",
            "Epoch 0 iter 300/937 loss: 2.271113872528076\n",
            "Epoch 0 iter 400/937 loss: 1.9163975715637207\n",
            "Epoch 0 iter 500/937 loss: 1.1919970512390137\n",
            "Epoch 0 iter 600/937 loss: 1.7391173839569092\n",
            "Epoch 0 iter 700/937 loss: 1.0534604787826538\n",
            "Epoch 0 iter 800/937 loss: 0.8600257039070129\n",
            "Epoch 0 iter 900/937 loss: 1.0361273288726807\n",
            "\n",
            "Test accuracy: 0.8194000124931335\n",
            "Epoch 1 iter 100/937 loss: 1.2708370685577393\n",
            "Epoch 1 iter 200/937 loss: 1.155853033065796\n",
            "Epoch 1 iter 300/937 loss: 0.8563973307609558\n",
            "Epoch 1 iter 400/937 loss: 0.5867698192596436\n",
            "Epoch 1 iter 500/937 loss: 0.5960996747016907\n",
            "Epoch 1 iter 600/937 loss: 0.8127822279930115\n",
            "Epoch 1 iter 700/937 loss: 0.7921037673950195\n",
            "Epoch 1 iter 800/937 loss: 0.8739862442016602\n",
            "Epoch 1 iter 900/937 loss: 1.0689129829406738\n",
            "\n",
            "Test accuracy: 0.8504999876022339\n",
            "Epoch 2 iter 100/937 loss: 0.3184608519077301\n",
            "Epoch 2 iter 200/937 loss: 1.161980152130127\n",
            "Epoch 2 iter 300/937 loss: 0.4943044185638428\n",
            "Epoch 2 iter 400/937 loss: 0.733233630657196\n",
            "Epoch 2 iter 500/937 loss: 1.3492627143859863\n",
            "Epoch 2 iter 600/937 loss: 0.3822264075279236\n",
            "Epoch 2 iter 700/937 loss: 0.3288731575012207\n",
            "Epoch 2 iter 800/937 loss: 0.3688221573829651\n",
            "Epoch 2 iter 900/937 loss: 1.0578800439834595\n",
            "\n",
            "Test accuracy: 0.8672999739646912\n"
          ]
        }
      ],
      "source": [
        "# hyperparams\n",
        "batch_size: int = 64\n",
        "epoch: int = 3\n",
        "lr: float = 0.01\n",
        "momentum: float = 0.9\n",
        "input_size = 28 * 28\n",
        "hidden_dim = 128\n",
        "output_dim = 10\n",
        "\n",
        "# initialize the model\n",
        "model: CustomNetwork = CustomNetwork(input_size, hidden_dim, output_dim)  # type: ignore\n",
        "\n",
        "correct = train(model, epoch, batch_size, lr, momentum)\n",
        "\n",
        "# this is your test\n",
        "assert (\n",
        "    correct / len(test_data) > 0.82\n",
        "), \"Subject to random seed you should be able to get >82% accuracy\""
      ],
      "metadata": {
        "colab": {
          "base_uri": "https://localhost:8080/"
        },
        "id": "RGmOzhd9ENN2",
        "outputId": "42cfbdb8-764c-4725-90ba-00021d022837"
      }
    },
    {
      "cell_type": "markdown",
      "source": [
        "## Zadanie 4 (2 pkt.)\n",
        "\n",
        "Ręcznie zaimplementować backward pass do sieci z poprzedniego zadania"
      ],
      "metadata": {
        "collapsed": false,
        "id": "Mn1xVKHpENN2"
      }
    },
    {
      "cell_type": "code",
      "execution_count": 13,
      "outputs": [],
      "source": [
        "def my_manual_backward(loss: torch.Tensor, model: CustomNetwork):\n",
        "    with torch.no_grad():\n",
        "        device = \"cuda\" if torch.cuda.is_available() else \"cpu\"\n",
        "        # Note: CrossEntropyLoss = LogSoftmax + NLLLoss\n",
        "        out_grad = torch.ones_like(loss, device=device)\n",
        "        nll_grad_fn = loss.grad_fn\n",
        "        log_softmax_grad_fn = nll_grad_fn.next_functions[0][0]\n",
        "\n",
        "        add_grad_fn = log_softmax_grad_fn.next_functions[0][0]\n",
        "\n",
        "        x_times_w2_grad_fn = add_grad_fn.next_functions[0][0]\n",
        "        tanh_grad_fn = x_times_w2_grad_fn.next_functions[0][0]\n",
        "        x_times_w1_grad_fn = tanh_grad_fn.next_functions[0][0].next_functions[0][0]\n",
        "\n",
        "        nll_grad = nll_grad_fn(out_grad)\n",
        "\n",
        "        log_softmax_grad = log_softmax_grad_fn(nll_grad)\n",
        "\n",
        "        w2_times_x_grad, b2_grad = add_grad_fn(log_softmax_grad)\n",
        "        b2_grad = b2_grad.sum(0)\n",
        "\n",
        "        x_grad, w2_grad = x_times_w2_grad_fn(w2_times_x_grad)\n",
        "\n",
        "        tanh_grad = tanh_grad_fn(x_grad)\n",
        "\n",
        "        w1_times_x_grad, b1_grad = add_grad_fn(tanh_grad)\n",
        "        b1_grad = b1_grad.sum(0)\n",
        "\n",
        "        _, w1_grad = x_times_w1_grad_fn(w1_times_x_grad)\n",
        "\n",
        "        model.weight_1.grad = w1_grad\n",
        "        model.bias_1.grad = b1_grad\n",
        "        model.weight_2.grad = w2_grad\n",
        "        model.bias_2.grad = b2_grad"
      ],
      "metadata": {
        "id": "uV7TtScbENN2"
      }
    },
    {
      "cell_type": "code",
      "execution_count": 14,
      "outputs": [],
      "source": [
        "model: CustomNetwork = CustomNetwork(784, 64, 10)\n",
        "(x, y) = next(iter(train_loader))\n",
        "output = model(x)\n",
        "loss = torch.nn.functional.cross_entropy(output, y)\n",
        "\n",
        "\n",
        "my_manual_backward(loss, model)\n",
        "\n",
        "w1g = model.weight_1.grad.clone().detach()\n",
        "b1g = model.bias_1.grad.clone().detach()\n",
        "w2g = model.weight_2.grad.clone().detach()\n",
        "b2g = model.bias_2.grad.clone().detach()\n",
        "\n",
        "model.weight_1.grad = None\n",
        "model.bias_1.grad = None\n",
        "model.weight_2.grad = None\n",
        "model.bias_2.grad = None\n",
        "\n",
        "loss.backward()\n",
        "\n",
        "assert torch.allclose(w1g, model.weight_1.grad)\n",
        "assert torch.allclose(b1g, model.bias_1.grad)\n",
        "assert torch.allclose(w2g, model.weight_2.grad)\n",
        "assert torch.allclose(b2g, model.bias_2.grad)"
      ],
      "metadata": {
        "id": "Thhzn_CbENN2"
      }
    },
    {
      "cell_type": "code",
      "execution_count": 16,
      "outputs": [
        {
          "output_type": "stream",
          "name": "stdout",
          "text": [
            "Epoch 0 iter 100/937 loss: 5.418475151062012\n",
            "Epoch 0 iter 200/937 loss: 2.077592134475708\n",
            "Epoch 0 iter 300/937 loss: 2.2700843811035156\n",
            "Epoch 0 iter 400/937 loss: 1.4442265033721924\n",
            "Epoch 0 iter 500/937 loss: 1.233262300491333\n",
            "Epoch 0 iter 600/937 loss: 1.8796467781066895\n",
            "Epoch 0 iter 700/937 loss: 1.2523422241210938\n",
            "Epoch 0 iter 800/937 loss: 1.7468163967132568\n",
            "Epoch 0 iter 900/937 loss: 1.3944978713989258\n",
            "\n",
            "Test accuracy: 0.8177000284194946\n",
            "Epoch 1 iter 100/937 loss: 1.2427126169204712\n",
            "Epoch 1 iter 200/937 loss: 0.8111684322357178\n",
            "Epoch 1 iter 300/937 loss: 0.9952529668807983\n",
            "Epoch 1 iter 400/937 loss: 1.01725435256958\n",
            "Epoch 1 iter 500/937 loss: 0.7952735424041748\n",
            "Epoch 1 iter 600/937 loss: 1.5496265888214111\n",
            "Epoch 1 iter 700/937 loss: 0.3262270390987396\n",
            "Epoch 1 iter 800/937 loss: 0.7880440950393677\n",
            "Epoch 1 iter 900/937 loss: 0.8400958776473999\n",
            "\n",
            "Test accuracy: 0.8511000275611877\n",
            "Epoch 2 iter 100/937 loss: 0.9040847420692444\n",
            "Epoch 2 iter 200/937 loss: 0.12849606573581696\n",
            "Epoch 2 iter 300/937 loss: 0.3979034125804901\n",
            "Epoch 2 iter 400/937 loss: 0.9553290009498596\n",
            "Epoch 2 iter 500/937 loss: 0.6849080920219421\n",
            "Epoch 2 iter 600/937 loss: 0.6797828674316406\n",
            "Epoch 2 iter 700/937 loss: 0.6550613641738892\n",
            "Epoch 2 iter 800/937 loss: 0.46514397859573364\n",
            "Epoch 2 iter 900/937 loss: 0.8233504295349121\n",
            "\n",
            "Test accuracy: 0.867900013923645\n"
          ]
        }
      ],
      "source": [
        "# initialize the model\n",
        "model: CustomNetwork = CustomNetwork(input_size, hidden_dim, output_dim) # type: ignore\n",
        "\n",
        "correct = train(model, epoch, batch_size, lr, momentum, backward_fn=my_manual_backward)\n",
        "\n",
        "# this is your test\n",
        "assert (\n",
        "    correct / len(test_data) > 0.82\n",
        "), \"Subject to random seed you should be able to get >82% accuracy\""
      ],
      "metadata": {
        "colab": {
          "base_uri": "https://localhost:8080/"
        },
        "id": "gYtsm_ucENN2",
        "outputId": "712a9c63-9874-43ca-c782-17ae8668526d"
      }
    }
  ],
  "metadata": {
    "kernelspec": {
      "display_name": "Python 3",
      "name": "python3"
    },
    "language_info": {
      "codemirror_mode": {
        "name": "ipython",
        "version": 3
      },
      "file_extension": ".py",
      "mimetype": "text/x-python",
      "name": "python",
      "nbconvert_exporter": "python",
      "pygments_lexer": "ipython3",
      "version": "3.7.11"
    },
    "colab": {
      "provenance": [],
      "gpuType": "T4"
    }
  },
  "nbformat": 4,
  "nbformat_minor": 0
}